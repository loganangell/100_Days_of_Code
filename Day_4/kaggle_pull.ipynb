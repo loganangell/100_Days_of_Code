{
 "cells": [
  {
   "cell_type": "code",
   "execution_count": 3,
   "id": "09883558",
   "metadata": {},
   "outputs": [],
   "source": [
    "# Import libraries\n",
    "import kaggle"
   ]
  },
  {
   "cell_type": "code",
   "execution_count": 4,
   "id": "8ac55c4b",
   "metadata": {},
   "outputs": [
    {
     "name": "stdout",
     "output_type": "stream",
     "text": [
      "Dataset URL: https://www.kaggle.com/datasets/ghassenkhaled/video-games-data\n"
     ]
    }
   ],
   "source": [
    "# Name File - Change kaggle_dataset and path variables of dataset and path needed\n",
    "kaggle_dataset = 'ghassenkhaled/video-games-data'\n",
    "target_folder = 'raw_vg_data'\n",
    "\n",
    "# Authenticate Kaggle API Key\n",
    "kaggle.api.authenticate()\n",
    "\n",
    "# Download Dataset from Kaggle - change variable as needed\n",
    "file_name = kaggle.api.dataset_download_files(f'{kaggle_dataset}', path=f'{target_folder}', unzip=True)"
   ]
  }
 ],
 "metadata": {
  "kernelspec": {
   "display_name": "base",
   "language": "python",
   "name": "python3"
  },
  "language_info": {
   "codemirror_mode": {
    "name": "ipython",
    "version": 3
   },
   "file_extension": ".py",
   "mimetype": "text/x-python",
   "name": "python",
   "nbconvert_exporter": "python",
   "pygments_lexer": "ipython3",
   "version": "3.13.5"
  }
 },
 "nbformat": 4,
 "nbformat_minor": 5
}
