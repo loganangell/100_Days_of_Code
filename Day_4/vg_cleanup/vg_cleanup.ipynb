{
 "cells": [
  {
   "cell_type": "markdown",
   "id": "27d1f49f",
   "metadata": {},
   "source": [
    "# Day 4 - Data Cleaning Project\n",
    "\n",
    "This project will take a raw video game sales and detail data that could be cleaned and ready for analysis\n",
    "\n",
    "1. Import libraries\n",
    "2. Read and provide information on the video game dataset csv\n",
    "3. Clean the dataset\n",
    "4. Extract the cleaned dataset into a folder\n",
    "5. Discuss findings (refer to README file)"
   ]
  },
  {
   "cell_type": "code",
   "execution_count": null,
   "id": "e1d9d4c8",
   "metadata": {},
   "outputs": [],
   "source": [
    "# import libaries\n",
    "import pandas as pd\n",
    "import warnings\n",
    "warnings.filterwarnings('ignore')\n",
    "import csv"
   ]
  },
  {
   "cell_type": "code",
   "execution_count": null,
   "id": "944cc193",
   "metadata": {},
   "outputs": [],
   "source": [
    "# Read and display the video game dataset\n",
    "df = pd.read_csv('../raw_vg_data/Video_Games.csv')\n",
    "df.head()"
   ]
  },
  {
   "cell_type": "code",
   "execution_count": null,
   "id": "8bee2a0a",
   "metadata": {},
   "outputs": [],
   "source": [
    "# display information about the dataset and raw records\n",
    "raw_df = len(df)\n",
    "df.info()\n",
    "print(f'\\n Total Raw Records: {raw_df}')"
   ]
  },
  {
   "cell_type": "code",
   "execution_count": null,
   "id": "573f8fce",
   "metadata": {},
   "outputs": [],
   "source": [
    "# Clean the dataset\n",
    "\n",
    "# Remove names with missing values - unable to analyze missing title names\n",
    "df.dropna(subset=['Name'], inplace=True)\n",
    "\n",
    "# Remove years and publishers with missing values - unable to analyze missing year or publisher\n",
    "df.dropna(subset=['Year_of_Release', 'Publisher'], inplace=True)\n",
    "\n",
    "# Remove ratings and developer columns - unable to analyze missing ratings and developer info\n",
    "df.drop(columns=['Rating', 'Developer'], inplace=True)\n",
    "\n",
    "# Make the year_of_release column into an integer type - years should be whole numbers\n",
    "df['Year_of_Release'] = df['Year_of_Release'].astype(int)\n",
    "\n",
    "# Remove any duplicate records - a title and its platform should be unique\n",
    "df.drop_duplicates(inplace=True)\n",
    "\n",
    "# Display cleaned dataset information\n",
    "cleaned_df = len(df)\n",
    "df.info()\n",
    "\n",
    "print()\n",
    "print('--- Cleaned Dataset Preview ---')\n",
    "print(f'\\n Total cleaned records: {cleaned_df}')\n",
    "print(f'\\n Total records removed: {raw_df - cleaned_df}')\n",
    "print(f'\\n Percentage of raw records removed: {((raw_df - cleaned_df) / raw_df) * 100:.2f}%')\n"
   ]
  },
  {
   "cell_type": "code",
   "execution_count": null,
   "id": "877ee5a2",
   "metadata": {},
   "outputs": [],
   "source": [
    "# Display cleaned dataset information\n",
    "platforms = df['Platform'].nunique()\n",
    "publishers = df['Publisher'].nunique()\n",
    "genres = df['Genre'].nunique()\n",
    "\n",
    "print(f'\\n --- Video Game Sample Summary ---')\n",
    "print(f'\\n Total platforms (consoles): {platforms}')\n",
    "print(f'\\n Total publishers: {publishers}')\n",
    "print(f'\\n Total genres: {genres}')"
   ]
  },
  {
   "cell_type": "code",
   "execution_count": null,
   "id": "1faa5d72",
   "metadata": {},
   "outputs": [],
   "source": [
    "# Create CSV folder and extract datasets\n",
    "\n",
    "# --- Descriptive Data Dataset - Remove Review Ratings---\n",
    "\n",
    "# Drop critic and user review count and score columns\n",
    "VG_descriptive = df.drop(columns=['Critic_Score', 'Critic_Count', 'User_Score', 'User_Count'])\n",
    "\n",
    "# Save cleaned sales dataset to CSV\n",
    "VG_descriptive.to_csv('../cleaned_vg_data/VG_Descriptive_Cleaned.csv', index=False)\n",
    "\n",
    "print('Dataset has been cleaned and extracted to cleaned_vg_data folder.')\n"
   ]
  },
  {
   "cell_type": "code",
   "execution_count": null,
   "id": "90861a13",
   "metadata": {},
   "outputs": [],
   "source": [
    "# --- Review Ratings Dataset - Considers Games with Review Ratings ---\n",
    "\n",
    "# Remove records without critic or review data\n",
    "VG_reviews = df.dropna(subset=['Critic_Score', 'Critic_Count', 'User_Score', 'User_Count'])\n",
    "\n",
    "# Remove columns not needed for review analysis\n",
    "VG_reviews = VG_reviews.drop(columns=['Platform', 'Year_of_Release', 'Genre', 'Publisher', 'NA_Sales', \n",
    "                                      'EU_Sales', 'JP_Sales', 'Other_Sales', 'Global_Sales'])\n",
    "\n",
    "# Display cleaned review dataset\n",
    "VG_reviews_clean = len(VG_reviews)\n",
    "VG_reviews.info()\n",
    "\n",
    "print()\n",
    "print('--- Cleaned VG Review Dataset Preview ---')\n",
    "print(f'\\n Total cleaned review records: {VG_reviews_clean}')\n",
    "print(f'\\n Total records removed for VG reviews: {raw_df - VG_reviews_clean}')\n",
    "print(f'\\n Percentage of raw records removed: {((raw_df - VG_reviews_clean) / raw_df) * 100:.2f}%')\n",
    "\n",
    "# Save cleaned review dataset to CSV\n",
    "VG_reviews.to_csv('../cleaned_vg_data/VG_Reviews_Cleaned.csv', index=False)\n",
    "print()\n",
    "print('Dataset has been cleaned and extracted to cleaned_vg_data folder.')\n"
   ]
  }
 ],
 "metadata": {
  "kernelspec": {
   "display_name": "base",
   "language": "python",
   "name": "python3"
  },
  "language_info": {
   "codemirror_mode": {
    "name": "ipython",
    "version": 3
   },
   "file_extension": ".py",
   "mimetype": "text/x-python",
   "name": "python",
   "nbconvert_exporter": "python",
   "pygments_lexer": "ipython3",
   "version": "3.13.5"
  }
 },
 "nbformat": 4,
 "nbformat_minor": 5
}
