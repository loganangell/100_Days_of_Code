{
 "cells": [
  {
   "cell_type": "markdown",
   "id": "881967fb",
   "metadata": {},
   "source": [
    "# Salary Dataset Analysis\n",
    "This project uses different Python Libraries to analyze salaries based on experience\n",
    "1. Import libraries needed for project\n",
    "2. Read CSV data extracted from Kaggle \"Salary_Dataset\"\n",
    "3. Create and display the scatter plot\n",
    "4. View descriptive information of the dataset\n",
    "5. Discuss findings (see README file)"
   ]
  },
  {
   "cell_type": "code",
   "execution_count": null,
   "id": "345b1c04",
   "metadata": {},
   "outputs": [],
   "source": [
    "# Import libraries\n",
    "import pandas as pd\n",
    "import matplotlib.pyplot as plt\n",
    "import seaborn as sns"
   ]
  },
  {
   "cell_type": "code",
   "execution_count": null,
   "id": "1ff5e296",
   "metadata": {},
   "outputs": [],
   "source": [
    "# Read salary_data\n",
    "salary_data = pd.read_csv('salary_dataset.csv')\n",
    "salary_data.info()"
   ]
  },
  {
   "cell_type": "code",
   "execution_count": null,
   "id": "c8ac8ffe",
   "metadata": {},
   "outputs": [],
   "source": [
    "# Rename first column - for readibility\n",
    "salary_data.rename(columns={'Unnamed: 0': 'PersonID', 'YearsExperience': 'Years_Experience'}, inplace=True)\n",
    "salary_data.info()"
   ]
  },
  {
   "cell_type": "code",
   "execution_count": null,
   "id": "a7d61938",
   "metadata": {},
   "outputs": [],
   "source": [
    "# Create scatter plot chart\n",
    "point_color = '#1f77b4'\n",
    "line_color = '#000000'\n",
    "\n",
    "# Define correlation and r-squared values\n",
    "review_corr = salary_data[['Years_Experience', 'Salary']].corr().iloc[0,1]\n",
    "review_r2 = review_corr ** 2\n",
    "\n",
    "# Define variables\n",
    "x_variable = 'Years_Experience'\n",
    "y_variable = 'Salary'\n",
    "\n",
    "# Create scatter plot\n",
    "sns.lmplot(\n",
    "    data=salary_data,\n",
    "    x= x_variable,\n",
    "    y= y_variable,\n",
    "    height=7,\n",
    "    aspect=1.5,\n",
    "    scatter_kws={'color': point_color, 'alpha': 0.6},\n",
    "    line_kws={'color': line_color}\n",
    ")\n",
    "\n",
    "# Generate scatter plot labels\n",
    "plt.title(f'{x_variable} vs {y_variable}\\n(r= {review_corr:.2f}, r² = {review_r2:.2f})', pad=20)\n",
    "plt.xlabel(x_variable)\n",
    "plt.ylabel(y_variable)\n",
    "\n",
    "# Display scatter plot\n",
    "plt.tight_layout\n",
    "plt.show()"
   ]
  },
  {
   "cell_type": "code",
   "execution_count": null,
   "id": "5d0749a5",
   "metadata": {},
   "outputs": [],
   "source": [
    "# Supplimentary Information\n",
    "\n",
    "salary_data[['Years_Experience', 'Salary']].describe()"
   ]
  }
 ],
 "metadata": {
  "kernelspec": {
   "display_name": "Python 3",
   "language": "python",
   "name": "python3"
  },
  "language_info": {
   "codemirror_mode": {
    "name": "ipython",
    "version": 3
   },
   "file_extension": ".py",
   "mimetype": "text/x-python",
   "name": "python",
   "nbconvert_exporter": "python",
   "pygments_lexer": "ipython3",
   "version": "3.13.9"
  }
 },
 "nbformat": 4,
 "nbformat_minor": 5
}
